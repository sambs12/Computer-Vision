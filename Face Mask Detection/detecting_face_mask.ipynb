{
 "cells": [
  {
   "cell_type": "markdown",
   "metadata": {},
   "source": [
    "#### Import all the required Libraries"
   ]
  },
  {
   "cell_type": "code",
   "execution_count": 1,
   "metadata": {},
   "outputs": [],
   "source": [
    "import cv2\n",
    "import numpy as np\n",
    "from tensorflow.keras.models import load_model\n",
    "from tensorflow.keras.preprocessing import image\n",
    "from tensorflow.keras.preprocessing.image import img_to_array\n",
    "from tensorflow.keras.preprocessing.image import ImageDataGenerator"
   ]
  },
  {
   "cell_type": "markdown",
   "metadata": {},
   "source": [
    "#### Load the trained model and Haarcascades"
   ]
  },
  {
   "cell_type": "code",
   "execution_count": 2,
   "metadata": {},
   "outputs": [],
   "source": [
    "face_classifier = cv2.CascadeClassifier(\"E:\\Desktop_C\\practice\\Deep Learning\\Face Mask Detection\\haarcascade_frontalface_default.xml\")\n",
    "model_path = \"E:\\Desktop_C\\practice\\Deep Learning\\Face Mask Detection\\model_face_mask_detection.h5\"\n",
    "model = load_model(model_path)\n",
    "\n",
    "labels_dict = {0: 'MASK IS ON', 1: 'PLEASE WEAR YOUR MASK'}\n",
    "color_dict = {0: (0,255,0), 1:(0,0,255)}"
   ]
  },
  {
   "cell_type": "code",
   "execution_count": 3,
   "metadata": {},
   "outputs": [],
   "source": [
    "SIZE = 4"
   ]
  },
  {
   "cell_type": "code",
   "execution_count": 5,
   "metadata": {},
   "outputs": [],
   "source": [
    "#setting the source as webcam\n",
    "cap = cv2.VideoCapture(0)\n",
    "while(True):\n",
    "    #reading the image frames\n",
    "    ret,img = cap.read()\n",
    "    #converting to grayscale images\n",
    "    img = cv2.flip(img,1,1) #Flip to act as mirror\n",
    "    \n",
    "    #Resize img to speed up detection\n",
    "    img_1 = cv2.resize(img, (img.shape[1]//SIZE, img.shape[0]//SIZE))\n",
    "    \n",
    "    #multiple faces\n",
    "    faces = face_classifier.detectMultiScale(img_1)  \n",
    "    \n",
    "       \n",
    "    for f in faces:\n",
    "        #Drawing Rectangle on face\n",
    "        (x,y,w,h) = [v * SIZE for v in f] #scaleup the size\n",
    "        \n",
    "        #Extracting ROI (Bounding Boxes) of the face from the image\n",
    "        roi_img = img[y:y+h, x:x+w]\n",
    "        roi_img = cv2.resize(roi_img, (224,224))\n",
    "        \n",
    "        #If there is atleast one face in frame\n",
    "        if np.sum(roi_img)!= 0: \n",
    "            roi = roi_img.astype('float')/255\n",
    "            roi = img_to_array(roi)\n",
    "            roi = np.expand_dims(roi,axis =0)        \n",
    "        \n",
    "            #Predicting the mask \n",
    "            pred = model.predict(roi)[0]\n",
    "            label = np.argmax(pred)\n",
    "            \n",
    "            cv2.rectangle(img,(x,y),(x+w,y+h),color_dict[label],2)\n",
    "            cv2.rectangle(img,(x,y-40),(x+w,y),color_dict[label],-1)\n",
    "\n",
    "            #putting text on face rectangle drawn above\n",
    "            cv2.putText(img, labels_dict[label], (x, y-10),cv2.FONT_HERSHEY_SIMPLEX,0.8,(255,255,255),2)\n",
    "               \n",
    "        else:\n",
    "            cv2.putText(gray, \"no face\", (20,60),cv2.FONT_HERSHEY_SIMPLEX, 0.8, (255,255,0), 2)\n",
    "        \n",
    "        # Show the image\n",
    "        cv2.imshow(\"LIVE\", img) \n",
    "   \n",
    "    #Press q to exit the video stream\n",
    "    if cv2.waitKey(1) & 0xFF == ord('q'): \n",
    "        break\n",
    "        \n",
    "# Stop video\n",
    "cap.release()\n",
    "\n",
    "\n",
    "# Close all started windows\n",
    "cv2.destroyAllWindows()"
   ]
  },
  {
   "cell_type": "code",
   "execution_count": null,
   "metadata": {},
   "outputs": [],
   "source": []
  }
 ],
 "metadata": {
  "kernelspec": {
   "display_name": "Python 3",
   "language": "python",
   "name": "python3"
  },
  "language_info": {
   "codemirror_mode": {
    "name": "ipython",
    "version": 3
   },
   "file_extension": ".py",
   "mimetype": "text/x-python",
   "name": "python",
   "nbconvert_exporter": "python",
   "pygments_lexer": "ipython3",
   "version": "3.8.5"
  }
 },
 "nbformat": 4,
 "nbformat_minor": 4
}
